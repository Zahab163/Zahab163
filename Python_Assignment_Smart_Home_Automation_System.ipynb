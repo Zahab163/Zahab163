{
  "nbformat": 4,
  "nbformat_minor": 0,
  "metadata": {
    "colab": {
      "provenance": [],
      "authorship_tag": "ABX9TyNfQH1bZJPcnwkmfKl6pCMA",
      "include_colab_link": true
    },
    "kernelspec": {
      "name": "python3",
      "display_name": "Python 3"
    },
    "language_info": {
      "name": "python"
    }
  },
  "cells": [
    {
      "cell_type": "markdown",
      "metadata": {
        "id": "view-in-github",
        "colab_type": "text"
      },
      "source": [
        "<a href=\"https://colab.research.google.com/github/Zahab163/Zahab163/blob/main/Python_Assignment_Smart_Home_Automation_System.ipynb\" target=\"_parent\"><img src=\"https://colab.research.google.com/assets/colab-badge.svg\" alt=\"Open In Colab\"/></a>"
      ]
    },
    {
      "cell_type": "markdown",
      "source": [
        "Python Assignment: Smart Home\n",
        "Automation System\n",
        "�� Scenario:\n",
        "You are developing a Smart Home Automation System that allows users to control and\n",
        "monitor various home appliances using Python data structures like Lists, Tuples,\n",
        "Dictionaries, Sets, and Functions.\n",
        "Your task is to implement different functionalities step by step.\n",
        "1. Device Management (Lists & Tuples)\n",
        "Task 1.1: Create and Manage a List of Smart Devices\n",
        "● Create a list of at least 5 smart home devices (e.g., \"Lights\", \"Fan\", \"AC\", \"Door\n",
        "Lock\", \"Thermostat\").\n",
        "● Allow the user to:\n",
        "○ Add a new device.\n",
        "○ Remove a device.\n",
        "Sort devices alphabetically.\n",
        "✍️ Example Output:\n",
        "Devices: ['Lights', 'Fan', 'AC', 'Door Lock', 'Thermostat'] Updated\n",
        "Devices: ['Lights', 'Fan', 'AC', 'Door Lock', 'Thermostat',\n",
        "'Security Camera']\n",
        "Sorted Devices: ['AC', 'Door Lock', 'Fan', 'Lights', 'Security\n",
        "Camera', 'Thermostat']\n",
        "\n"
      ],
      "metadata": {
        "id": "ipvQ5tOSm5BN"
      }
    },
    {
      "source": [
        "# Create a list of smart home devices\n",
        "smart_devices = [\"Lights\", \"Fan\", \"AC\", \"Door Lock\", \"Thermostat\"]\n",
        "\n",
        "# Display the initial list of devices\n",
        "print(\"Initial list of smart devices:\", smart_devices)\n",
        "\n",
        "# Function to add a new device\n",
        "def add_device(device_list):\n",
        "  new_device = input(\"Enter the name of the new device to add: \")\n",
        "  device_list.append(new_device)\n",
        "  print(f\"{new_device} added to the list.\")\n",
        "  print(\"Updated device list:\", device_list)\n",
        "\n",
        "# Function to remove a device\n",
        "def remove_device(device_list):\n",
        "  device_to_remove = input(\"Enter the name of the device to remove: \")\n",
        "  if device_to_remove in device_list:\n",
        "    device_list.remove(device_to_remove)\n",
        "    print(f\"{device_to_remove} removed from the list.\")\n",
        "    print(\"Updated device list:\", device_list)\n",
        "  else:\n",
        "    print(f\"{device_to_remove} not found in the list.\")\n",
        "\n",
        "# Function to sort devices alphabetically\n",
        "def sort_devices(device_list):\n",
        "  device_list.sort()\n",
        "  print(\"Devices sorted alphabetically:\", device_list)\n",
        "\n",
        "# Example usage (you can uncomment these lines to test)\n",
        "# add_device(smart_devices)\n",
        "# remove_device(smart_devices)\n",
        "# sort_devices(smart_devices)"
      ],
      "cell_type": "code",
      "metadata": {
        "colab": {
          "base_uri": "https://localhost:8080/"
        },
        "id": "1DPsfyZMpkDZ",
        "outputId": "598f33f5-e481-4ba5-dc0e-1339113a9c1b"
      },
      "execution_count": 2,
      "outputs": [
        {
          "output_type": "stream",
          "name": "stdout",
          "text": [
            "Initial list of smart devices: ['Lights', 'Fan', 'AC', 'Door Lock', 'Thermostat']\n"
          ]
        }
      ]
    },
    {
      "cell_type": "code",
      "source": [
        "smart_devices = [\"Lights\", \"Fan\", \"AC\", \"Door Lock\", \"Thermostat\"]\n",
        "print(\"Initial list of smart devices:\", smart_devices)\n"
      ],
      "metadata": {
        "colab": {
          "base_uri": "https://localhost:8080/"
        },
        "id": "4_mtWs2f8Usi",
        "outputId": "2fac9ae9-17ae-4dd7-d9f1-67ca13b0a619"
      },
      "execution_count": 34,
      "outputs": [
        {
          "output_type": "stream",
          "name": "stdout",
          "text": [
            "Initial list of smart devices: ['Lights', 'Fan', 'AC', 'Door Lock', 'Thermostat']\n"
          ]
        }
      ]
    },
    {
      "cell_type": "markdown",
      "source": [
        "Task 1.2: Store Device Settings Using Tuples\n",
        "● Define a tuple for each device, containing:\n",
        "○ Device name\n",
        "○ Device status (ON/OFF)\n",
        "○ Device power consumption (in Watts)\n",
        "● Allow users to view all devices with their status and power consumption.\n",
        " Example Output:\n",
        " Lights: ('Lights', 'ON', 60)\n",
        "Fan: ('Fan', 'OFF', 40)\n",
        "AC: ('AC', 'ON', 1500)\n"
      ],
      "metadata": {
        "id": "4jiqWliTuy8K"
      }
    },
    {
      "source": [
        "# Task 1.2: Store Device Settings Using Tuples\n",
        "\n",
        "# Define a list to store device settings as tuples\n",
        "# Each tuple will be (device_name, status, power_consumption)\n",
        "device_settings = [\n",
        "    (\"Lights\", \"ON\", 60),\n",
        "    (\"Fan\", \"OFF\", 30),\n",
        "    (\"AC\", \"ON\", 1500),\n",
        "    (\"Door Lock\", \"OFF\", 5),\n",
        "    (\"Thermostat\", \"ON\", 10)\n",
        "]\n",
        "\n",
        "# Function to display all devices with their status and power consumption\n",
        "def view_device_settings(settings_list):\n",
        "  print(\"\\n--- Device Settings ---\")\n",
        "  for setting in settings_list:\n",
        "    # Unpack the tuple for easy access to elements\n",
        "    device_name, status, power_consumption = setting\n",
        "    print(f\"Device: {device_name}, Status: {status}, Power Consumption: {power_consumption} Watts\")\n",
        "  print(\"-----------------------\")\n",
        "\n",
        "# Example usage:\n",
        "view_device_settings(device_settings)"
      ],
      "cell_type": "code",
      "metadata": {
        "colab": {
          "base_uri": "https://localhost:8080/"
        },
        "id": "DLQNOttTvhjM",
        "outputId": "5ffef80c-3969-4a23-d9c7-7145fa5e1f2c"
      },
      "execution_count": 23,
      "outputs": [
        {
          "output_type": "stream",
          "name": "stdout",
          "text": [
            "\n",
            "--- Device Settings ---\n",
            "Device: Lights, Status: ON, Power Consumption: 60 Watts\n",
            "Device: Fan, Status: OFF, Power Consumption: 30 Watts\n",
            "Device: AC, Status: ON, Power Consumption: 1500 Watts\n",
            "Device: Door Lock, Status: OFF, Power Consumption: 5 Watts\n",
            "Device: Thermostat, Status: ON, Power Consumption: 10 Watts\n",
            "-----------------------\n"
          ]
        }
      ]
    },
    {
      "cell_type": "markdown",
      "source": [
        "Energy Consumption Tracker (Dictionaries & Sets)\n",
        "Task 2.1: Store Device Energy Usage in a Dictionary\n",
        "● Create a dictionary where:\n",
        "○ Keys: Smart home devices (e.g., \"Lights\", \"AC\", \"Fan\").\n",
        "○ Values: Energy usage (in kWh).\n",
        "● Allow users to:\n",
        "○ Add new energy usage data.\n",
        "○ Update existing usage.\n",
        "○ Remove a device's energy usage.\n",
        "○ Display total energy consumption.\n",
        "️ Example Output:\n",
        "Initial Energy Usage: {'Lights': 5, 'AC': 120, 'Fan': 30}\n",
        "Updated Energy Usage: {'Lights': 5, 'AC': 110, 'Fan': 30,\n",
        "'Thermostat': 20}\n",
        "Total Energy Consumption: 165 kWh"
      ],
      "metadata": {
        "id": "-KgUlurPwAIp"
      }
    },
    {
      "source": [
        "# Task 2.1: Store Device Energy Usage in a Dictionary\n",
        "\n",
        "# Create a dictionary to store device energy usage (device_name: energy_usage_in_kWh)\n",
        "energy_usage = {\n",
        "    \"Lights\": 0.5,\n",
        "    \"Fan\": 0.1,\n",
        "    \"AC\": 3.0,\n",
        "    \"Thermostat\": 0.2\n",
        "}\n",
        "\n",
        "print(\"Initial energy usage data:\", energy_usage)\n",
        "\n",
        "# Function to add or update energy usage data\n",
        "def add_update_energy_usage(usage_dict):\n",
        "  device_name = input(\"Enter the device name: \")\n",
        "  try:\n",
        "    usage_kwh = float(input(f\"Enter the energy usage for {device_name} in kWh: \"))\n",
        "    usage_dict[device_name] = usage_kwh\n",
        "    print(f\"Energy usage for {device_name} updated to {usage_kwh} kWh.\")\n",
        "    print(\"Updated energy usage data:\", usage_dict)\n",
        "  except ValueError:\n",
        "    print(\"Invalid input. Please enter a number for energy usage.\")\n",
        "\n",
        "\n",
        "# Function to remove a device's energy usage data\n",
        "def remove_energy_usage(usage_dict):\n",
        "  device_name = input(\"Enter the name of the device to remove energy usage for: \")\n",
        "  if device_name in usage_dict:\n",
        "    del usage_dict[device_name]\n",
        "    print(f\"Energy usage data for {device_name} removed.\")\n",
        "    print(\"Updated energy usage data:\", usage_dict)\n",
        "  else:\n",
        "    print(f\"Device {device_name} not found in energy usage data.\")\n",
        "\n",
        "# Function to display total energy consumption\n",
        "def display_total_energy_consumption(usage_dict):\n",
        "  total_consumption = sum(usage_dict.values())\n",
        "  print(f\"\\nTotal energy consumption across all devices: {total_consumption:.2f} kWh\")\n",
        "\n",
        "# Example usage (uncomment to test):\n",
        "# add_update_energy_usage(energy_usage)\n",
        "# remove_energy_usage(energy_usage)\n",
        "# display_total_energy_consumption(energy_usage)"
      ],
      "cell_type": "code",
      "metadata": {
        "colab": {
          "base_uri": "https://localhost:8080/"
        },
        "id": "jheXZXtRwtHn",
        "outputId": "5e9bc66b-ffdb-420d-b064-95e66c187fa5"
      },
      "execution_count": 24,
      "outputs": [
        {
          "output_type": "stream",
          "name": "stdout",
          "text": [
            "Initial energy usage data: {'Lights': 0.5, 'Fan': 0.1, 'AC': 3.0, 'Thermostat': 0.2}\n"
          ]
        }
      ]
    },
    {
      "cell_type": "code",
      "source": [
        "# Function to add or update energy usage data\n",
        "def add_update_energy_usage(usage_dict):\n",
        "  device_name = input(\"Enter the device name: \")\n",
        "  try:\n",
        "    usage_kwh = float(input(f\"Enter the energy usage for {device_name} in kWh: \"))\n",
        "    usage_dict[device_name] = usage_kwh\n",
        "    print(f\"Energy usage for {device_name} updated to {usage_kwh} kWh.\")\n",
        "    print(\"Updated energy usage data:\", usage_dict)\n",
        "  except ValueError:\n",
        "    print(\"Invalid input. Please enter a number for energy usage.\")\n"
      ],
      "metadata": {
        "id": "j130T3IKxkjx"
      },
      "execution_count": 27,
      "outputs": []
    },
    {
      "cell_type": "markdown",
      "source": [
        "Task 2.2: Identify Unique Power-Saving Modes Using Sets\n",
        "● Create a set to store unique power-saving modes (e.g., \"Eco Mode\", \"Night Mode\",\n",
        "\"Away Mode\").\n",
        "● Allow users to:\n",
        "○ Add a new mode.\n",
        "○ Check if a mode is available.\n",
        "○ View all power-saving modes.\n",
        "✍️ Example Output:\n",
        "Power-Saving Modes: {'Eco Mode', 'Night Mode'}\n",
        "New Mode Added: 'Away Mode'\n",
        "Updated Modes: {'Eco Mode', 'Night Mode', 'Away Mode'}"
      ],
      "metadata": {
        "id": "V7vUq5skx2ox"
      }
    },
    {
      "source": [
        "# Task 2.2: Identify Unique Power-Saving Modes Using Sets\n",
        "\n",
        "# Create a set to store unique power-saving modes\n",
        "power_saving_modes = {\"Eco Mode\", \"Night Mode\"}\n",
        "\n",
        "print(\"Initial Power-Saving Modes:\", power_saving_modes)\n",
        "\n",
        "# Function to add a new power-saving mode\n",
        "def add_power_saving_mode(modes_set):\n",
        "  new_mode = input(\"Enter the new power-saving mode to add: \")\n",
        "  if new_mode in modes_set:\n",
        "    print(f\"'{new_mode}' is already in the list of power-saving modes.\")\n",
        "  else:\n",
        "    modes_set.add(new_mode)\n",
        "    print(f\"'{new_mode}' added to the power-saving modes.\")\n",
        "  print(\"Updated Power-Saving Modes:\", modes_set)\n",
        "\n",
        "# Function to check if a power-saving mode is available\n",
        "def check_power_saving_mode(modes_set):\n",
        "  mode_to_check = input(\"Enter the power-saving mode to check: \")\n",
        "  if mode_to_check in modes_set:\n",
        "    print(f\"'{mode_to_check}' is available.\")\n",
        "  else:\n",
        "    print(f\"'{mode_to_check}' is not available.\")\n",
        "\n",
        "# Function to view all power-saving modes\n",
        "def view_power_saving_modes(modes_set):\n",
        "  print(\"\\n--- Available Power-Saving Modes ---\")\n",
        "  for mode in modes_set:\n",
        "    print(f\"- {mode}\")\n",
        "  print(\"------------------------------------\")\n",
        "\n",
        "# Example usage (uncomment to test):\n",
        "# add_power_saving_mode(power_saving_modes)\n",
        "# check_power_saving_mode(power_saving_modes)\n",
        "# view_power_saving_modes(power_saving_modes)"
      ],
      "cell_type": "code",
      "metadata": {
        "colab": {
          "base_uri": "https://localhost:8080/"
        },
        "id": "W1bRO-PYyOW-",
        "outputId": "3c10d2db-d76b-4c36-e816-2ee308230e49"
      },
      "execution_count": 28,
      "outputs": [
        {
          "output_type": "stream",
          "name": "stdout",
          "text": [
            "Initial Power-Saving Modes: {'Eco Mode', 'Night Mode'}\n"
          ]
        }
      ]
    },
    {
      "cell_type": "markdown",
      "source": [
        "3. Functions for Smart Home Automation Task\n",
        "3.1: Create a Function to Calculate Monthly Energy Cost\n",
        "● Write a function calculate_energy_cost(energy_usage, rate_per_kwh)\n",
        "that:\n",
        "○ Takes total energy usage (kWh) and electricity rate per kWh as input.\n",
        "○ Calculates total monthly cost.\n",
        "✍️ Example Input & Output:\n",
        "calculate_energy_cost(165, 0.12)\n",
        "# Output: \"Total Monthly Energy Cost: $19.80\""
      ],
      "metadata": {
        "id": "Hde5CZfkykoR"
      }
    },
    {
      "source": [
        "# Task 3.1: Create a Function to Calculate Monthly Energy Cost\n",
        "\n",
        "def calculate_energy_cost(total_energy_usage, rate_per_kwh):\n",
        "  \"\"\"\n",
        "  Calculates the total monthly energy cost.\n",
        "\n",
        "  Args:\n",
        "    total_energy_usage: The total energy usage in kWh (float or int).\n",
        "    rate_per_kwh: The electricity rate per kWh (float).\n",
        "\n",
        "  Returns:\n",
        "    A formatted string representing the total monthly energy cost.\n",
        "  \"\"\"\n",
        "  total_cost = total_energy_usage * rate_per_kwh\n",
        "  return f\"Total Monthly Energy Cost: ${total_cost:.2f}\"\n",
        "\n",
        "# Example usage based on your example output:\n",
        "total_usage_example = 165\n",
        "rate_example = 0.12\n",
        "cost_output = calculate_energy_cost(total_usage_example, rate_example)\n",
        "print(cost_output)\n",
        "\n",
        "# You could also use the total energy consumption calculated in Task 2.1\n",
        "# if you uncomment the example usage there and run it first.\n",
        "# For example:\n",
        "# display_total_energy_consumption(energy_usage) # Run this first to get total usage\n",
        "# total_current_usage = sum(energy_usage.values())\n",
        "# current_rate = 0.15 # Example rate\n",
        "# current_cost_output = calculate_energy_cost(total_current_usage, current_rate)\n",
        "# print(current_cost_output)"
      ],
      "cell_type": "code",
      "metadata": {
        "colab": {
          "base_uri": "https://localhost:8080/"
        },
        "id": "R4cTRF-NzSVf",
        "outputId": "503c4bb5-6d97-45c3-f2e8-0add871f3f71"
      },
      "execution_count": 29,
      "outputs": [
        {
          "output_type": "stream",
          "name": "stdout",
          "text": [
            "Total Monthly Energy Cost: $19.80\n"
          ]
        }
      ]
    },
    {
      "cell_type": "markdown",
      "source": [
        "Task 3.2: Create a Function to Find Common Devices in Two Homes\n",
        "● Write a function that:\n",
        "○ Takes two lists of smart devices from two different homes.\n",
        "○ Returns a set of common devices.\n",
        "✍️ Example Input & Output:\n",
        "home1_devices = ['Lights', 'AC', 'Fan']\n",
        "home2_devices = ['Fan', 'Door Lock', 'Lights']\n",
        "find_common_devices(home1_devices, home2_devices)\n",
        "# Output: {'Lights', 'Fan'}\n"
      ],
      "metadata": {
        "id": "VOhvFUa9zuUJ"
      }
    },
    {
      "source": [
        "# Task 3.2: Create a Function to Find Common Devices in Two Homes\n",
        "\n",
        "def find_common_devices(home1_devices, home2_devices):\n",
        "  \"\"\"\n",
        "  Finds the common smart devices present in two lists of devices.\n",
        "\n",
        "  Args:\n",
        "    home1_devices: A list of smart devices in the first home.\n",
        "    home2_devices: A list of smart devices in the second home.\n",
        "\n",
        "  Returns:\n",
        "    A set containing the names of devices common to both lists.\n",
        "  \"\"\"\n",
        "  # Convert the lists to sets to easily find the intersection\n",
        "  set1 = set(home1_devices)\n",
        "  set2 = set(home2_devices)\n",
        "\n",
        "  # Find the intersection of the two sets (common elements)\n",
        "  common_devices_set = set1.intersection(set2)\n",
        "\n",
        "  return common_devices_set\n",
        "\n",
        "# Example usage based on your example output:\n",
        "home1_devices = ['Lights', 'AC', 'Fan']\n",
        "home2_devices = ['Fan', 'Door Lock', 'Lights']\n",
        "\n",
        "common_devices = find_common_devices(home1_devices, home2_devices)\n",
        "print(common_devices)"
      ],
      "cell_type": "code",
      "metadata": {
        "colab": {
          "base_uri": "https://localhost:8080/"
        },
        "id": "3pdhHvicz6-i",
        "outputId": "13100f8b-9a77-427e-83ef-4c7389d0e735"
      },
      "execution_count": 30,
      "outputs": [
        {
          "output_type": "stream",
          "name": "stdout",
          "text": [
            "{'Lights', 'Fan'}\n"
          ]
        }
      ]
    },
    {
      "cell_type": "markdown",
      "source": [
        "4. Automation Features (Advanced Functions)\n",
        "Task 4.1: Create an Automation Rule Using Functions\n",
        "● Write a function set_automation_rule(device, time, action) that:\n",
        "○ Takes a device name, time, and an action (ON/OFF).\n",
        "○ Returns a message indicating the automation rule.\n",
        "✍️ Example Input & Output:\n",
        "set_automation_rule(\"Lights\", \"10:00 PM\", \"OFF\")\n",
        "# Output: \"Automation Rule: Lights will be turned OFF at 10:00 PM."
      ],
      "metadata": {
        "id": "4AEbtq2e1eYJ"
      }
    },
    {
      "source": [
        "# Task 4.1: Create an Automation Rule Using Functions\n",
        "\n",
        "def set_automation_rule(device, time, action):\n",
        "  \"\"\"\n",
        "  Creates a message describing an automation rule.\n",
        "\n",
        "  Args:\n",
        "    device: The name of the smart device (string).\n",
        "    time: The time the action should occur (string, e.g., \"10:00 PM\").\n",
        "    action: The action to perform (string, e.g., \"ON\" or \"OFF\").\n",
        "\n",
        "  Returns:\n",
        "    A formatted string representing the automation rule message.\n",
        "  \"\"\"\n",
        "  # Ensure the action is in uppercase for consistency in the message\n",
        "  formatted_action = action.upper()\n",
        "\n",
        "  # Create the automation rule message\n",
        "  rule_message = f\"Automation Rule: {device} will be turned {formatted_action} at {time}.\"\n",
        "\n",
        "  return rule_message\n",
        "\n",
        "# Example usage based on your example output:\n",
        "device_name_example = \"Lights\"\n",
        "time_example = \"10:00 PM\"\n",
        "action_example = \"OFF\"\n",
        "\n",
        "automation_message = set_automation_rule(device_name_example, time_example, action_example)\n",
        "print(automation_message)"
      ],
      "cell_type": "code",
      "metadata": {
        "colab": {
          "base_uri": "https://localhost:8080/"
        },
        "id": "2arCBA9t11st",
        "outputId": "9f731c46-8374-46e5-df3b-c630d3afc298"
      },
      "execution_count": 31,
      "outputs": [
        {
          "output_type": "stream",
          "name": "stdout",
          "text": [
            "Automation Rule: Lights will be turned OFF at 10:00 PM.\n"
          ]
        }
      ]
    },
    {
      "cell_type": "markdown",
      "source": [
        "Task 4.2: Function to Optimize Power Consumption\n",
        "● Write a function that:\n",
        "○ Takes a list of devices with their power usage.\n",
        "○ Turns off devices consuming high power (> 1000W).\n",
        "○ Returns an updated list of active devices.\n",
        "✍️ Example Input & Output:\n",
        "devices = [(\"Lights\", 60), (\"AC\", 1500), (\"Fan\", 40), (\"Heater\",\n",
        "2000)]\n",
        "optimize_power(devices)\n",
        "# Output: ['Lights', 'Fan']"
      ],
      "metadata": {
        "id": "8yzp63aR2hsK"
      }
    },
    {
      "source": [
        "# Task 4.1: Create an Automation Rule Using Functions\n",
        "\n",
        "def set_automation_rule(device, time, action):\n",
        "  \"\"\"\n",
        "  Creates a message describing an automation rule.\n",
        "\n",
        "  Args:\n",
        "    device: The name of the smart device (string).\n",
        "    time: The time the action should occur (string, e.g., \"10:00 PM\").\n",
        "    action: The action to perform (string, e.g., \"ON\" or \"OFF\").\n",
        "\n",
        "  Returns:\n",
        "    A formatted string representing the automation rule message.\n",
        "  \"\"\"\n",
        "  # Ensure the action is in uppercase for consistency in the message\n",
        "  formatted_action = action.upper()\n",
        "\n",
        "  # Create the automation rule message\n",
        "  rule_message = f\"Automation Rule: {device} will be turned {formatted_action} at {time}.\"\n",
        "\n",
        "  return rule_message\n",
        "\n",
        "# Example usage based on your example output:\n",
        "device_name_example = \"Lights\"\n",
        "time_example = \"10:00 PM\"\n",
        "action_example = \"OFF\"\n",
        "\n",
        "automation_message = set_automation_rule(device_name_example, time_example, action_example)\n",
        "print(automation_message)"
      ],
      "cell_type": "code",
      "metadata": {
        "colab": {
          "base_uri": "https://localhost:8080/"
        },
        "id": "0ykqrG9u3I9M",
        "outputId": "883ee7ed-f47a-42e7-f904-53b69cbcb112"
      },
      "execution_count": 32,
      "outputs": [
        {
          "output_type": "stream",
          "name": "stdout",
          "text": [
            "Automation Rule: Lights will be turned OFF at 10:00 PM.\n"
          ]
        }
      ]
    },
    {
      "cell_type": "markdown",
      "source": [
        "� Smart Home AI Assistant (Using *args & **kwargs)\n",
        "● Create a function smart_home_assistant(name, *args, **kwargs) where:\n",
        "○ name: Homeowner's Name.\n",
        "○ *args: Devices that need status updates.\n",
        "○ **kwargs: Automation commands (e.g., lights=\"ON\", fan=\"OFF\").\n",
        "● The function should:\n",
        "○ Print the devices being checked.\n",
        "○ Execute automation commands and return updated status.\n",
        "✍️ Example Input & Output:\n",
        "smart_home_assistant(\"Alice\", \"Lights\", \"AC\", lights=\"OFF\", ac=\"ON\")\n",
        "# Output:\n",
        "# Checking status for: Lights, AC\n",
        "# Lights set to OFF\n",
        "# AC set to ON"
      ],
      "metadata": {
        "id": "a5tuBhQ54JGH"
      }
    },
    {
      "source": [
        "# Task 5.1: Smart Home AI Assistant (Using *args & **kwargs)\n",
        "\n",
        "def smart_home_assistant(name, *args, **kwargs):\n",
        "  \"\"\"\n",
        "  Acts as a smart home assistant to check device statuses and execute commands.\n",
        "\n",
        "  Args:\n",
        "    name: The homeowner's name (string).\n",
        "    *args: Variable number of arguments representing devices for status updates.\n",
        "    **kwargs: Variable number of keyword arguments representing automation commands\n",
        "              (device_name=action, e.g., lights=\"ON\").\n",
        "\n",
        "  Returns:\n",
        "    A dictionary containing the updated status for devices that received automation commands.\n",
        "  \"\"\"\n",
        "  print(f\"Hello, {name}!\")\n",
        "\n",
        "  # Process devices for status updates (*args)\n",
        "  if args:\n",
        "    print(\"Checking status for:\", \", \".join(args))\n",
        "    # In a real system, you would interact with devices here to get their status\n",
        "\n",
        "  # Process automation commands (**kwargs)\n",
        "  updated_status = {}\n",
        "  if kwargs:\n",
        "    print(\"\\nExecuting automation commands:\")\n",
        "    for device, action in kwargs.items():\n",
        "      # Simulate executing the command\n",
        "      print(f\"{device.capitalize()} set to {action.upper()}\")\n",
        "      # Store the updated status (simulated)\n",
        "      updated_status[device] = action.upper()\n",
        "      # In a real system, you would send commands to devices here\n",
        "\n",
        "  # Return updated status for executed commands\n",
        "  return updated_status\n",
        "\n",
        "# Example usage based on your example input:\n",
        "homeowner_name = \"Alice\"\n",
        "devices_to_check = (\"Lights\", \"AC\")\n",
        "automation_commands = {\"lights\": \"OFF\", \"ac\": \"ON\"}\n",
        "\n",
        "updated_status_result = smart_home_assistant(homeowner_name, *devices_to_check, **automation_commands)\n",
        "\n",
        "print(\"\\nReturned updated status:\", updated_status_result) # Print the returned dictionary"
      ],
      "cell_type": "code",
      "metadata": {
        "id": "7K-yL6Bm4Mg3"
      },
      "execution_count": null,
      "outputs": []
    }
  ]
}